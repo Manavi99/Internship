{
 "cells": [
  {
   "cell_type": "markdown",
   "metadata": {},
   "source": [
    "## Question-1"
   ]
  },
  {
   "cell_type": "code",
   "execution_count": 1,
   "metadata": {},
   "outputs": [
    {
     "name": "stdout",
     "output_type": "stream",
     "text": [
      "\n",
      "1. Check the number \n",
      "2. Exit\n",
      "1\n",
      "Enter the number: 156\n",
      "Positive\n",
      "\n",
      "1. Check the number \n",
      "2. Exit\n",
      "1\n",
      "Enter the number: -846\n",
      "Negative\n",
      "\n",
      "1. Check the number \n",
      "2. Exit\n",
      "100\n",
      "Please enter either 1 or 2\n",
      "\n",
      "1. Check the number \n",
      "2. Exit\n",
      "1\n",
      "Enter the number: 00\n",
      "Zero\n",
      "\n",
      "1. Check the number \n",
      "2. Exit\n",
      "1\n",
      "Enter the number: -56\n",
      "Negative\n",
      "\n",
      "1. Check the number \n",
      "2. Exit\n",
      "2\n",
      "Positive Count : 1 \n",
      "Negative Count :  2 \n",
      "Zero Count :  1\n"
     ]
    }
   ],
   "source": [
    "num = True\n",
    "count1 = 0\n",
    "count2 = 0\n",
    "count3 = 0\n",
    "\n",
    "while(num):\n",
    "    print(\"\\n1. Check the number \\n2. Exit\")\n",
    "    i = int(input())\n",
    "    if (i == 1):\n",
    "        Enter = int(input(\"Enter the number: \"))\n",
    "        if (Enter > 0):\n",
    "            print(\"Positive\")\n",
    "            count1+= 1\n",
    "        \n",
    "        elif (Enter < 0):\n",
    "            print(\"Negative\")\n",
    "            count2 += 1\n",
    "         \n",
    "        elif (Enter == 0):\n",
    "            print(\"Zero\")\n",
    "            count3 += 1\n",
    "    elif (i == 2):\n",
    "        break\n",
    "    else:\n",
    "        print(\"Please enter either 1 or 2\")\n",
    "print(\"Positive Count :\",count1, \"\\nNegative Count : \",count2,\"\\nZero Count : \",count3)\n"
   ]
  },
  {
   "cell_type": "markdown",
   "metadata": {},
   "source": [
    "## Question 2"
   ]
  },
  {
   "cell_type": "code",
   "execution_count": 1,
   "metadata": {},
   "outputs": [
    {
     "name": "stdout",
     "output_type": "stream",
     "text": [
      "153\n",
      "370\n",
      "371\n",
      "407\n"
     ]
    }
   ],
   "source": [
    "for num in range(1,500,1):\n",
    "    l = len(str(num))\n",
    "    sum = 0\n",
    "    t = num\n",
    "    if l > 1:\n",
    "        while t > 0:\n",
    "            d = t % 10\n",
    "            sum = sum +d**l\n",
    "            t = t // 10\n",
    "    \n",
    "    if (num == sum):\n",
    "        print(num)"
   ]
  },
  {
   "cell_type": "markdown",
   "metadata": {},
   "source": [
    "## Question 3"
   ]
  },
  {
   "cell_type": "code",
   "execution_count": 3,
   "metadata": {},
   "outputs": [
    {
     "name": "stdout",
     "output_type": "stream",
     "text": [
      "Enter the number : 15645\n",
      "2 6 7 5 6\n"
     ]
    }
   ],
   "source": [
    "num = int(input(\"Enter the number : \"))\n",
    "d1 = num%10\n",
    "num = num/10\n",
    "d2 = num%10\n",
    "num = num/10\n",
    "d3 = num%10\n",
    "num = num/10\n",
    "d4 = num%10\n",
    "num = num/10\n",
    "d5 = num%10\n",
    "\n",
    "\n",
    "d1 = int((d1+1)%10)\n",
    "d2 = int((d2+1)%10)\n",
    "d3 = int((d3+1)%10)\n",
    "d4 = int((d4+1)%10)\n",
    "d5 = int((d5+1)%10)\n",
    "\n",
    "print(d5,d4,d3,d2,d1)\n",
    "\n",
    "\n",
    "\n",
    "    "
   ]
  },
  {
   "cell_type": "code",
   "execution_count": null,
   "metadata": {},
   "outputs": [],
   "source": []
  },
  {
   "cell_type": "code",
   "execution_count": null,
   "metadata": {},
   "outputs": [],
   "source": []
  },
  {
   "cell_type": "code",
   "execution_count": null,
   "metadata": {},
   "outputs": [],
   "source": [
    "\n"
   ]
  }
 ],
 "metadata": {
  "kernelspec": {
   "display_name": "Python 3",
   "language": "python",
   "name": "python3"
  },
  "language_info": {
   "codemirror_mode": {
    "name": "ipython",
    "version": 3
   },
   "file_extension": ".py",
   "mimetype": "text/x-python",
   "name": "python",
   "nbconvert_exporter": "python",
   "pygments_lexer": "ipython3",
   "version": "3.6.4"
  }
 },
 "nbformat": 4,
 "nbformat_minor": 2
}
